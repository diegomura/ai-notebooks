{
 "cells": [
  {
   "cell_type": "code",
   "execution_count": 1,
   "metadata": {},
   "outputs": [],
   "source": [
    "story = \"\"\"\n",
    "In a quaint little town nestled between rolling hills and dense forests, lived two friends named Sarah and David. They were inseparable since childhood, sharing laughter, dreams, and the occasional secret. One gloomy evening, the sky painted in shades of gray, they found themselves in Sarah's cozy living room, engrossed in conversation.\n",
    "\n",
    "As the raindrops tapped against the window pane, the room echoed with the warmth of their friendship. The narrator, a silent observer to their tales, watched as Sarah and David exchanged stories of their week, relishing the comforting ambiance of the crackling fireplace.\n",
    "\n",
    "\"So, David,\" Sarah said, her eyes sparkling with mischief, \"have you heard about the old mansion on the outskirts of town? They say it's haunted.\"\n",
    "\n",
    "David chuckled, \"Come on, Sarah. Ghost stories? You know I don't believe in that stuff.\"\n",
    "\n",
    "As their banter continued, the wind outside grew more insistent, whispering secrets that only the bravest trees dared to share. The narrator could sense a subtle tension building in the room, a prelude to an unexpected twist in their evening.\n",
    "\n",
    "Just as Sarah began to describe the eerie sounds rumored to emanate from the mansion, a sudden, thunderous boom shook the entire house. The lights flickered, casting eerie shadows on the walls.\n",
    "\n",
    "Startled, Sarah and David exchanged wide-eyed glances. \"Was that thunder?\" Sarah asked, her voice barely audible over the howling wind.\n",
    "\n",
    "David nodded, attempting to ease the tension with a reassuring smile. \"Just a storm, nothing to worry about.\"\n",
    "\n",
    "But before anyone could say another word, a gust of wind burst through the slightly ajar door, slamming it shut with a resounding bang. The room fell into sudden darkness, the only source of light now the occasional lightning that danced across the sky.\n",
    "\n",
    "As the door closed, Sarah and David exchanged a glance, their expressions now a mix of surprise and concern. The narrator, a silent witness to the unfolding events, could feel the atmosphere thicken with an unspoken uncertainty.\n",
    "\n",
    "\"Maybe we should check outside,\" David suggested, his voice betraying a hint of nervousness.\n",
    "\n",
    "Sarah nodded, and together they cautiously approached the door. With a collective breath, they opened it to reveal a world transformed by the storm. Raindrops lashed against their faces, and the wind howled in protest, carrying with it the whispers of the night.\n",
    "\n",
    "The adventure that had started as a cozy evening by the fireplace had taken an unexpected turn. The thunder, the closing door, and the mysterious mansion on the outskirts of town left an indelible mark on Sarah and David's friendship, weaving a tale that would be retold on stormy nights for years to come.\n",
    "\"\"\"\n"
   ]
  },
  {
   "cell_type": "code",
   "execution_count": 40,
   "metadata": {},
   "outputs": [],
   "source": [
    "# create story schema (somehow. this is just a demo)\n",
    "story_schema = {\n",
    "  'location': 'Indoors, rain outside',\n",
    "  'mood': 'tense',\n",
    "  'segments': [\n",
    "    { 'voice': 'narrator', 'text': \"In a quaint little town nestled between rolling hills and dense forests, lived two friends named Sarah and David. They were inseparable since childhood, sharing laughter, dreams, and the occasional secret. One gloomy evening, the sky painted in shades of gray, they found themselves in Sarah's cozy living room, engrossed in conversation.\"},\n",
    "    { 'voice': 'narrator', 'text': \"As the raindrops tapped against the window pane, the room echoed with the warmth of their friendship. The narrator, a silent observer to their tales, watched as Sarah and David exchanged stories of their week, relishing the comforting ambiance of the crackling fireplace.\"},\n",
    "    { 'voice': 'sarah', 'text': 'So, David'},\n",
    "    { 'voice': 'narrator', 'text': 'Sarah said, her eyes sparkling with mischief,'},\n",
    "    { 'voice': 'sarah', 'text': \"have you heard about the old mansion on the outskirts of town? They say it's haunted.\"},\n",
    "    { 'voice': 'narrator', 'text': 'David chuckled,'},\n",
    "    { 'voice': 'david', 'text': \"Come on, Sarah. Ghost stories? You know I don't believe in that stuff.\"},\n",
    "    { 'voice': 'narrator', 'text': 'As their banter continued, the wind outside grew more insistent, whispering secrets that only the bravest trees dared to share. The narrator could sense a subtle tension building in the room, a prelude to an unexpected twist in their evening.'},\n",
    "    { 'voice': 'narrator', 'text': 'Just as Sarah began to describe the eerie sounds rumored to emanate from the mansion, a sudden, thunderous boom shook the entire house. The lights flickered, casting eerie shadows on the walls.'},\n",
    "    { 'voice': 'narrator', 'text': 'Startled, Sarah and David exchanged wide-eyed glances.'},\n",
    "    { 'voice': 'sarah', 'text': 'Was that thunder?'},\n",
    "    { 'voice': 'narrator', 'text': 'Sarah asked, her voice barely audible over the howling wind.'},\n",
    "    { 'voice': 'narrator', 'text': 'David nodded, attempting to ease the tension with a reassuring smile.'},\n",
    "    { 'voice': 'david', 'text': 'Just a storm, nothing to worry about.'},\n",
    "    { 'voice': 'narrator', 'text': 'But before anyone could say another word, a gust of wind burst through the slightly ajar door, slamming it shut with a resounding bang. The room fell into sudden darkness, the only source of light now the occasional lightning that danced across the sky.'},\n",
    "    { 'voice': 'david', 'text': 'Maybe we should check outside,'},\n",
    "    { 'voice': 'narrator', 'text': 'David suggested, his voice betraying a hint of nervousness.'},\n",
    "    { 'voice': 'narrator', 'text': 'Sarah nodded, and together they cautiously approached the door. With a collective breath, they opened it to reveal a world transformed by the storm. Raindrops lashed against their faces, and the wind howled in protest, carrying with it the whispers of the night.'},\n",
    "    { 'voice': 'narrator', 'text': \"The adventure that had started as a cozy evening by the fireplace had taken an unexpected turn. The thunder, the closing door, and the mysterious mansion on the outskirts of town left an indelible mark on Sarah and David's friendship, weaving a tale that would be retold on stormy nights for years to come.\"},\n",
    "  ]\n",
    "}"
   ]
  },
  {
   "cell_type": "code",
   "execution_count": 41,
   "metadata": {},
   "outputs": [],
   "source": [
    "# start and end tags\n",
    "time = 0\n",
    "for v in story_schema['segments']:\n",
    "  word_length = len(v['text'])\n",
    "  v['start'] = time\n",
    "  v['end'] = time + word_length\n",
    "  time += word_length"
   ]
  },
  {
   "cell_type": "code",
   "execution_count": 42,
   "metadata": {},
   "outputs": [],
   "source": [
    "# initialize voices\n",
    "import os\n",
    "\n",
    "narrator = [os.path.join(os.getcwd(), 'voices/william/1.wav'), os.path.join(os.getcwd(), 'voices/william/2.wav'), os.path.join(os.getcwd(), 'voices/william/3.wav'), os.path.join(os.getcwd(), 'voices/william/4.wav')]\n",
    "sarah = [os.path.join(os.getcwd(), 'voices/emma/1.wav'), os.path.join(os.getcwd(), 'voices/emma/2.wav'), os.path.join(os.getcwd(), 'voices/emma/3.wav')]\n",
    "david = [os.path.join(os.getcwd(), 'voices/geralt/1.wav'), os.path.join(os.getcwd(), 'voices/geralt/2.wav'), os.path.join(os.getcwd(), 'voices/geralt/3.wav')]\n",
    "\n",
    "voices = { 'narrator': narrator, 'sarah': sarah, 'david': david}\n"
   ]
  },
  {
   "cell_type": "code",
   "execution_count": 33,
   "metadata": {},
   "outputs": [
    {
     "name": "stdout",
     "output_type": "stream",
     "text": [
      " > tts_models/multilingual/multi-dataset/xtts_v2 is already downloaded.\n",
      " > Using model: xtts\n"
     ]
    }
   ],
   "source": [
    "# load model\n",
    "import torch\n",
    "from TTS.api import TTS\n",
    "\n",
    "device = \"cuda\" if torch.cuda.is_available() else \"cpu\"\n",
    "tts = TTS(\"tts_models/multilingual/multi-dataset/xtts_v2\").to(device)"
   ]
  },
  {
   "cell_type": "code",
   "execution_count": 44,
   "metadata": {},
   "outputs": [
    {
     "name": "stdout",
     "output_type": "stream",
     "text": [
      " > Text splitted to sentences.\n",
      "['In a quaint little town nestled between rolling hills and dense forests, lived two friends named Sarah and David.', 'They were inseparable since childhood, sharing laughter, dreams, and the occasional secret.', \"One gloomy evening, the sky painted in shades of gray, they found themselves in Sarah's cozy living room, engrossed in conversation.\", 'As the raindrops tapped against the window pane, the room echoed with the warmth of their friendship.', 'The narrator, a silent observer to their tales, watched as Sarah and David exchanged stories of their week, relishing the comforting ambiance of the crackling fireplace.']\n",
      " > Processing time: 62.43627595901489\n",
      " > Real-time factor: 1.5866970219996201\n",
      " > Text splitted to sentences.\n",
      "['So, David']\n",
      " > Processing time: 3.523740768432617\n",
      " > Real-time factor: 1.4587429397705618\n",
      " > Text splitted to sentences.\n",
      "['Sarah said, her eyes sparkling with mischief,']\n",
      " > Processing time: 5.779727935791016\n",
      " > Real-time factor: 1.5267754574491075\n",
      " > Text splitted to sentences.\n",
      "['have you heard about the old mansion on the outskirts of town?', \"They say it's haunted.\"]\n",
      " > Processing time: 10.67245888710022\n",
      " > Real-time factor: 1.3925376258080848\n",
      " > Text splitted to sentences.\n",
      "['David chuckled,']\n",
      " > Processing time: 2.686899185180664\n",
      " > Real-time factor: 1.976979679432516\n",
      " > Text splitted to sentences.\n",
      "['Come on, Sarah.', 'Ghost stories?', \"You know I don't believe in that stuff.\"]\n",
      " > Processing time: 10.862415790557861\n",
      " > Real-time factor: 1.6701736875334767\n",
      " > Text splitted to sentences.\n",
      "['As their banter continued, the wind outside grew more insistent, whispering secrets that only the bravest trees dared to share.', 'The narrator could sense a subtle tension building in the room, a prelude to an unexpected twist in their evening.', 'Just as Sarah began to describe the eerie sounds rumored to emanate from the mansion, a sudden, thunderous boom shook the entire house.', 'The lights flickered, casting eerie shadows on the walls.', 'Startled, Sarah and David exchanged wide-eyed glances.']\n",
      " > Processing time: 53.94699025154114\n",
      " > Real-time factor: 1.5760222148348657\n",
      " > Text splitted to sentences.\n",
      "['Was that thunder?']\n",
      " > Processing time: 2.798156976699829\n",
      " > Real-time factor: 1.392636360965855\n",
      " > Text splitted to sentences.\n",
      "['Sarah asked, her voice barely audible over the howling wind.', 'David nodded, attempting to ease the tension with a reassuring smile.']\n",
      " > Processing time: 13.686094999313354\n",
      " > Real-time factor: 1.4881765560145745\n",
      " > Text splitted to sentences.\n",
      "['Just a storm, nothing to worry about.']\n",
      " > Processing time: 5.493373870849609\n",
      " > Real-time factor: 1.556126591112974\n",
      " > Text splitted to sentences.\n",
      "['But before anyone could say another word, a gust of wind burst through the slightly ajar door, slamming it shut with a resounding bang.', 'The room fell into sudden darkness, the only source of light now the occasional lightning that danced across the sky.']\n",
      " > Processing time: 24.937216997146606\n",
      " > Real-time factor: 1.5146144633844278\n",
      " > Text splitted to sentences.\n",
      "['Maybe we should check outside,']\n",
      " > Processing time: 4.62438702583313\n",
      " > Real-time factor: 1.5802091172765391\n",
      " > Text splitted to sentences.\n",
      "['David suggested, his voice betraying a hint of nervousness.', 'Sarah nodded, and together they cautiously approached the door.', 'With a collective breath, they opened it to reveal a world transformed by the storm.', 'Raindrops lashed against their faces, and the wind howled in protest, carrying with it the whispers of the night.', 'The adventure that had started as a cozy evening by the fireplace had taken an unexpected turn.', \"The thunder, the closing door, and the mysterious mansion on the outskirts of town left an indelible mark on Sarah and David's friendship, weaving a tale that would be retold on stormy nights for years to come.\"]\n",
      " > Processing time: 63.76438593864441\n",
      " > Real-time factor: 1.5339750440193822\n"
     ]
    }
   ],
   "source": [
    "# generate voices\n",
    "for v in story_schema['segments']:\n",
    "  v['audio'] = tts.tts(\n",
    "  text=v['text'],\n",
    "  speaker_wav=voices[v['voice']],\n",
    "  language=\"en\",\n",
    ")\n"
   ]
  },
  {
   "cell_type": "code",
   "execution_count": 35,
   "metadata": {},
   "outputs": [],
   "source": [
    "# testing save audios for testing\n",
    "\n",
    "import soundfile as sf\n",
    "\n",
    "sampling_rate = 24000\n",
    "\n",
    "id = 0\n",
    "for v in story_schema['segments']:\n",
    "  sf.write(f'{id}.wav', v['audio'], sampling_rate)\n",
    "  id += 1"
   ]
  },
  {
   "cell_type": "code",
   "execution_count": 45,
   "metadata": {},
   "outputs": [],
   "source": [
    "# generate narration\n",
    "import numpy as np\n",
    "\n",
    "small_silence = np.zeros(int(sampling_rate * 0.5), dtype=np.int16)\n",
    "normal_silence = np.zeros(int(sampling_rate * 1), dtype=np.int16)\n",
    "start_silence = np.zeros(int(sampling_rate * 4), dtype=np.int16)\n",
    "\n",
    "narration_data = [start_silence]\n",
    "\n",
    "for v in story_schema['segments']:\n",
    "  narration_data.append(v['audio'])\n",
    "  narration_data.append(normal_silence if v['voice'] == 'narrator' else small_silence)\n",
    "\n",
    "narration_data = np.concatenate(narration_data)\n",
    "\n",
    "sf.write(\"narration.wav\", narration_data, sampling_rate, format='WAV')\n"
   ]
  },
  {
   "cell_type": "code",
   "execution_count": null,
   "metadata": {},
   "outputs": [],
   "source": []
  }
 ],
 "metadata": {
  "kernelspec": {
   "display_name": "Python 3",
   "language": "python",
   "name": "python3"
  },
  "language_info": {
   "codemirror_mode": {
    "name": "ipython",
    "version": 3
   },
   "file_extension": ".py",
   "mimetype": "text/x-python",
   "name": "python",
   "nbconvert_exporter": "python",
   "pygments_lexer": "ipython3",
   "version": "3.0.0"
  }
 },
 "nbformat": 4,
 "nbformat_minor": 2
}
