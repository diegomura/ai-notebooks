{
 "cells": [
  {
   "cell_type": "code",
   "execution_count": 2,
   "metadata": {},
   "outputs": [],
   "source": [
    "import torch"
   ]
  },
  {
   "cell_type": "code",
   "execution_count": 3,
   "metadata": {},
   "outputs": [],
   "source": [
    "words = open('names.txt', 'r').read().splitlines()"
   ]
  },
  {
   "cell_type": "code",
   "execution_count": 4,
   "metadata": {},
   "outputs": [],
   "source": [
    "chars = sorted(list(set(''.join(words))))\n",
    "stoi = {s:i+1 for i,s in enumerate(chars)}\n",
    "stoi['.'] = 0\n",
    "itos = {i:s for s,i in stoi.items()}"
   ]
  },
  {
   "cell_type": "code",
   "execution_count": 64,
   "metadata": {},
   "outputs": [],
   "source": [
    "# compute dataset\n",
    "\n",
    "X, Y = [], []\n",
    "\n",
    "block_size = 3\n",
    "\n",
    "#  . . . -> e\n",
    "\n",
    "for w in words:\n",
    "  context = [0] * block_size\n",
    "\n",
    "  for c in list(w + '.'):\n",
    "\n",
    "    X.append(context[:])\n",
    "    Y.append(stoi[c])\n",
    "\n",
    "    # print(f'{\" \".join([itos[x] for x in context[:]])} -> {c}')\n",
    "\n",
    "    context.append(stoi[c])\n",
    "    context = context[1:]\n",
    "\n",
    "X = torch.tensor(X)\n",
    "Y = torch.tensor(Y)\n"
   ]
  },
  {
   "cell_type": "code",
   "execution_count": 6,
   "metadata": {},
   "outputs": [
    {
     "data": {
      "text/plain": [
       "tensor([-0.4563, -0.6563])"
      ]
     },
     "execution_count": 6,
     "metadata": {},
     "output_type": "execute_result"
    }
   ],
   "source": [
    "C = torch.randn(27, 2)\n",
    "C[5]"
   ]
  },
  {
   "cell_type": "code",
   "execution_count": 7,
   "metadata": {},
   "outputs": [],
   "source": [
    "emb = C[X]"
   ]
  },
  {
   "cell_type": "code",
   "execution_count": 8,
   "metadata": {},
   "outputs": [],
   "source": [
    "W1 = torch.randn(6, 100)\n",
    "B1 = torch.randn(100)"
   ]
  },
  {
   "cell_type": "code",
   "execution_count": 9,
   "metadata": {},
   "outputs": [
    {
     "data": {
      "text/plain": [
       "tensor([[ 0.8499,  1.0000, -0.9010,  ..., -0.9989,  0.9962,  0.8905],\n",
       "        [ 0.2800,  0.9999, -0.0691,  ..., -0.9775,  0.9933,  0.9083],\n",
       "        [ 0.7849,  0.9996,  0.8385,  ..., -0.8625,  0.9743,  0.8264],\n",
       "        ...,\n",
       "        [-0.0029, -0.6750, -0.9984,  ...,  0.9567, -0.9184, -0.9999],\n",
       "        [ 0.9943, -0.9968, -0.2121,  ...,  0.9998, -0.3050, -0.9878],\n",
       "        [-0.9996,  0.9997, -0.1072,  ..., -0.9935,  0.5675, -0.9997]])"
      ]
     },
     "execution_count": 9,
     "metadata": {},
     "output_type": "execute_result"
    }
   ],
   "source": [
    "h = torch.tanh(emb.view(-1, 6) @ W1 + B1)\n",
    "h"
   ]
  },
  {
   "cell_type": "code",
   "execution_count": 10,
   "metadata": {},
   "outputs": [],
   "source": [
    "W2 = torch.randn(100, 27)\n",
    "B2 = torch.randn(27)"
   ]
  },
  {
   "cell_type": "code",
   "execution_count": 32,
   "metadata": {},
   "outputs": [
    {
     "data": {
      "text/plain": [
       "tensor(1.)"
      ]
     },
     "execution_count": 32,
     "metadata": {},
     "output_type": "execute_result"
    }
   ],
   "source": [
    "logits = h @ W2 + B2\n",
    "counts = logits.exp()\n",
    "probs = counts / counts.sum(1, keepdim=True)\n",
    "probs[0].sum()"
   ]
  },
  {
   "cell_type": "code",
   "execution_count": 156,
   "metadata": {},
   "outputs": [],
   "source": [
    "# make it more respectable\n",
    "\n",
    "g = torch.Generator().manual_seed(2147483647)\n",
    "C = torch.randn(27, 2, generator=g)\n",
    "W1 = torch.randn(6, 100, generator=g)\n",
    "B1 = torch.randn(100, generator=g)\n",
    "W2 = torch.randn(100, 27, generator=g)\n",
    "B2 = torch.randn(27, generator=g)\n",
    "parameters = [C, W1, B1, W2, B2]\n",
    "\n",
    "for p in parameters:\n",
    "  p.requires_grad = True\n"
   ]
  },
  {
   "cell_type": "code",
   "execution_count": 157,
   "metadata": {},
   "outputs": [],
   "source": [
    "inc_exp = torch.linspace(-3, 0, 1000)\n",
    "inc_steps = 10**inc_exp"
   ]
  },
  {
   "cell_type": "code",
   "execution_count": 158,
   "metadata": {},
   "outputs": [],
   "source": [
    "ix = []\n",
    "iy = []\n",
    "\n",
    "for i in range(1000):\n",
    "  batch_indices = torch.randint(0, X.shape[0], (32,))\n",
    "\n",
    "  # forward pass\n",
    "  emb = C[X[batch_indices]]\n",
    "  h = torch.tanh(emb.view(-1, 6) @ W1 + B1)\n",
    "  logits = h @ W2 + B2\n",
    "  loss = torch.nn.functional.cross_entropy(logits, Y[batch_indices])\n",
    "\n",
    "  # backwards\n",
    "  for p in parameters:\n",
    "    p.grad = None\n",
    "\n",
    "  loss.backward()\n",
    "\n",
    "\n",
    "  # optimization\n",
    "  lr = inc_steps[i]\n",
    "  # lr = 0.01\n",
    "\n",
    "  for p in parameters:\n",
    "    p.data += -lr * p.grad\n",
    "\n",
    "  # stats\n",
    "  ix.append(lr)\n",
    "  iy.append(loss.item())\n",
    "\n",
    "# print(loss.item())"
   ]
  },
  {
   "cell_type": "code",
   "execution_count": 159,
   "metadata": {},
   "outputs": [
    {
     "name": "stdout",
     "output_type": "stream",
     "text": [
      "6.997771739959717\n"
     ]
    }
   ],
   "source": [
    "\n",
    "emb = C[X]\n",
    "h = torch.tanh(emb.view(-1, 6) @ W1 + B1)\n",
    "logits = h @ W2 + B2\n",
    "loss = torch.nn.functional.cross_entropy(logits, Y)\n",
    "\n",
    "print(loss.item())\n"
   ]
  },
  {
   "cell_type": "code",
   "execution_count": 160,
   "metadata": {},
   "outputs": [
    {
     "data": {
      "text/plain": [
       "[<matplotlib.lines.Line2D at 0x140090290>]"
      ]
     },
     "execution_count": 160,
     "metadata": {},
     "output_type": "execute_result"
    },
    {
     "data": {
      "image/png": "[encoded data removed]",
      "text/plain": [
       "<Figure size 640x480 with 1 Axes>"
      ]
     },
     "metadata": {},
     "output_type": "display_data"
    }
   ],
   "source": [
    "import matplotlib.pyplot as plt\n",
    "plt.plot(ix, iy)\n"
   ]
  },
  {
   "cell_type": "code",
   "execution_count": null,
   "metadata": {},
   "outputs": [],
   "source": []
  }
 ],
 "metadata": {
  "kernelspec": {
   "display_name": "Python 3",
   "language": "python",
   "name": "python3"
  },
  "language_info": {
   "codemirror_mode": {
    "name": "ipython",
    "version": 3
   },
   "file_extension": ".py",
   "mimetype": "text/x-python",
   "name": "python",
   "nbconvert_exporter": "python",
   "pygments_lexer": "ipython3",
   "version": "3.11.6"
  }
 },
 "nbformat": 4,
 "nbformat_minor": 2
}
